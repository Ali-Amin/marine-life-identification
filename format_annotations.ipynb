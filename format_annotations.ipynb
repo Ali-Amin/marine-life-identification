{
 "cells": [
  {
   "cell_type": "markdown",
   "metadata": {},
   "source": [
    "## Input format:\n",
    "### File1: dataset/QUT_fish_data/annotations/species_name.pts \n",
    "##### PTS file (1 line) containing bounding box:\n",
    "<bold>if fish facing left:</bold><br>\n",
    "```bounding_box: <top_x_left>  <top_y_left>; <top_x_right>  <top_y_right>; <bottom_x_right> <bottom_y_right>; <bottom_x_left>  <bottom_y_left> ```\n",
    "\n",
    "<bold>if fish facing right:</bold><br>\n",
    "```bounding_box:  <top_x_right>  <top_y_right>; <bottom_x_right> <bottom_y_right>; <bottom_x_left>  <bottom_y_left>; <top_x_left>  <top_y_left>; ```<br>\n",
    "\n",
    "### File2: dataset/QUT_fish_data/final_all_index.txt \n",
    "##### txt file where each line is:\n",
    "\n",
    "```<class number>=<species name>=<image type>=<full image name>```\n",
    "## Output format :\n",
    "### (1 file) where each line is:\n",
    " ```image_file_path x_min,y_min,x_max,y_max,class_id```"
   ]
  },
  {
   "cell_type": "code",
   "execution_count": 1,
   "metadata": {
    "scrolled": true
   },
   "outputs": [],
   "source": [
    "\n",
    "# returns the coordinates of the corners of an annotation\n",
    "def get_coord(annotation_path):\n",
    "    f = open(annotation_path, \"r\")\n",
    "    line = f.read()\n",
    "    \n",
    "    ### parse lines\n",
    "    \n",
    "    # assume fish is facing left\n",
    "    top_left, top_right, bottom_right, bottom_left = line.split(\";\")\n",
    "    temp_top_left_x, temp_top_left_y = top_left.split(':')[1].strip().split(\"  \")\n",
    "    temp_top_right_x, temp_top_right_y = top_right.strip().split(\"  \")\n",
    "    temp_bottom_right_x, temp_bottom_right_y = bottom_right.strip().split(\"  \")\n",
    "    temp_bottom_left_x, temp_bottom_left_y = bottom_left.strip().split(\" \")\n",
    "    \n",
    "    # prepare return values\n",
    "    top_left_x = temp_top_left_x;\n",
    "    top_left_y = temp_top_left_y;\n",
    "    top_right_x = temp_top_right_x;\n",
    "    top_right_y = temp_top_right_y;\n",
    "    bottom_right_x = temp_bottom_right_x;\n",
    "    bottom_right_y = temp_bottom_right_y;\n",
    "    bottom_left_x = temp_bottom_left_x;\n",
    "    bottom_left_y = temp_bottom_left_y;\n",
    "\n",
    "    \n",
    "    # if fish is facing right, swap coordinate values\n",
    "    if float(temp_top_left_x) > float(temp_bottom_right_x): # will only be true if facing right\n",
    "        top_right_x = temp_top_left_x\n",
    "        top_right_y = temp_top_left_y\n",
    "        bottom_right_x = temp_top_right_x\n",
    "        bottom_right_y = temp_top_right_y\n",
    "        bottom_left_x = temp_bottom_right_x\n",
    "        bottom_left_y = temp_bottom_right_y\n",
    "        top_left_x = temp_bottom_left_x\n",
    "        top_left_y = temp_bottom_left_y\n",
    "    \n",
    "    f.close()\n",
    "    return (float(top_left_x), float(top_left_y)), (float(top_right_x), float(top_right_y)),(float(bottom_right_x), float(bottom_right_y)), (float(bottom_left_x), float(bottom_left_y))"
   ]
  },
  {
   "cell_type": "code",
   "execution_count": 2,
   "metadata": {},
   "outputs": [
    {
     "data": {
      "text/plain": [
       "((476.164271556, 80.8933597621),\n",
       " (522.964271556, 235.693359762),\n",
       " (165.996085233, 343.613974232),\n",
       " (119.196085233, 188.813974232))"
      ]
     },
     "execution_count": 2,
     "metadata": {},
     "output_type": "execute_result"
    }
   ],
   "source": [
    "coords = get_coord(r\"keras-yolo3\\dataset\\QUT_fish_data\\annotations\\acanthaluteres_vittiger_5.pts\")\n",
    "coords"
   ]
  },
  {
   "cell_type": "code",
   "execution_count": 3,
   "metadata": {},
   "outputs": [],
   "source": [
    "# change corner coordinate format to box format\n",
    "def get_box(coords):\n",
    "    top_left, top_right, bottom_right, bottom_left = coords\n",
    "    min_x = min(top_left[0], bottom_left[0])\n",
    "    max_x = max(top_right[0], bottom_right[0])\n",
    "    min_y = min(top_left[1], bottom_left[1])\n",
    "    max_y = max(top_right[1], bottom_right[1])\n",
    "    return int(min_x), int(max_x), int(min_y), int(max_y)"
   ]
  },
  {
   "cell_type": "code",
   "execution_count": 4,
   "metadata": {},
   "outputs": [
    {
     "data": {
      "text/plain": [
       "(119, 522, 80, 343)"
      ]
     },
     "execution_count": 4,
     "metadata": {},
     "output_type": "execute_result"
    }
   ],
   "source": [
    "get_box(coords)"
   ]
  },
  {
   "cell_type": "code",
   "execution_count": 5,
   "metadata": {},
   "outputs": [],
   "source": [
    "def parse_species(line):\n",
    "    class_no, species_name, img_type, img_name, idx = line.split(\"=\")\n",
    "    return species_name, img_type, img_name"
   ]
  },
  {
   "cell_type": "code",
   "execution_count": 6,
   "metadata": {},
   "outputs": [],
   "source": [
    "def generate_yolo_annotations():\n",
    "    species = open(r\"keras-yolo3/dataset/QUT_fish_data/final_all_index.txt \",\"r\")\n",
    "    row_box_annotations = open(r\"keras-yolo3/train.txt\",\"w\")\n",
    "    classes = open(r\"keras-yolo3/dataset/fish_classes.txt\", \"w\")\n",
    "    classes_map = {};\n",
    "    class_no = -1\n",
    "    for line in species.readlines():\n",
    "        species_name, img_type, img_name = parse_species(line)\n",
    "        if(img_type=='insitu'):\n",
    "            if species_name not in classes_map:\n",
    "                classes.write(f\"{species_name}\\n\")\n",
    "                classes_map[species_name] = True\n",
    "                class_no+=1\n",
    "            img_path = f\"dataset/QUT_fish_data/images/raw_images/{img_name}.jpg\"\n",
    "            annotation_path = f\"keras-yolo3/dataset/QUT_fish_data/annotations/{img_name}.pts\"\n",
    "            coords = get_coord(annotation_path)\n",
    "            min_x,max_x,min_y,max_y = get_box(coords)\n",
    "            row_box_annotations.write(f\"{img_path} {min_x},{min_y},{max_x},{max_y},{class_no}\\n\")\n",
    "            \n",
    "    species.close()\n",
    "    row_box_annotations.close()\n",
    "    classes.close()"
   ]
  },
  {
   "cell_type": "code",
   "execution_count": 8,
   "metadata": {},
   "outputs": [],
   "source": [
    "generate_yolo_annotations()"
   ]
  },
  {
   "cell_type": "code",
   "execution_count": null,
   "metadata": {},
   "outputs": [],
   "source": []
  },
  {
   "cell_type": "markdown",
   "metadata": {},
   "source": [
    "## Input format:\n",
    "### File1: dataset/QUT_fish_data/annotations/species_name.pts \n",
    "##### CSV file containing bounding box:\n",
    "```<image_name>,<xmin>,<ymin>,<xmax>,<ymax>,<label>   ```\n",
    "\n",
    "\n",
    "\n",
    "### File2: dataset/QUT_fish_data/final_all_index.txt \n",
    "##### txt file where each line is:\n",
    "\n",
    "```<class number>=<species name>=<image type>=<full image name>```\n",
    "## Output format :\n",
    "### (1 file) where each line is:\n",
    " ```image_file_path x_min,y_min,x_max,y_max,class_id```"
   ]
  },
  {
   "cell_type": "code",
   "execution_count": 45,
   "metadata": {},
   "outputs": [],
   "source": [
    "def parse_csv_line(line):\n",
    "    img_name, xmin, ymin, xmax, ymax, label = line.split(',')\n",
    "    return img_name[1:-1], int(float(xmin)), int(float(ymin)), int(float(xmax)), int(float(ymax)), label.strip()[1:-1]\n",
    "\n",
    "def parse_species(line):\n",
    "    class_no, species_name, img_type, img_name, idx = line.split(\"=\")\n",
    "    return species_name, img_type, img_name\n",
    "\n",
    "def csv_to_yolo_annot():\n",
    "    species = open(r\"keras-yolo3/dataset/QUT_fish_data/final_all_index.txt \",\"r\")\n",
    "    csv_path = r'keras-yolo3/dataset/QUT_fish_data/images/test/res/vott-csv-export/htfdx-b-fdgcfbdhx-fdg-export.csv'\n",
    "    imgs_path =  r'keras-yolo3/dataset/QUT_fish_data/images/test/res'\n",
    "    row_box_annotations = open(r\"keras-yolo3/train2.txt\",\"w\")\n",
    "    csv = open(csv_path,'r')\n",
    "    csv.readline() # first line contains meta data\n",
    "    for line in csv.readlines():\n",
    "        img_name, xmin, ymin, xmax, ymax, label = parse_csv_line(line)\n",
    "        img_path = imgs_path+'/'+img_name\n",
    "        row_box_annotations.write(f\"{img_path} {xmin},{ymin},{xmax},{ymax},{class_no}\\n\")\n",
    "    csv.close()\n"
   ]
  },
  {
   "cell_type": "code",
   "execution_count": 46,
   "metadata": {},
   "outputs": [
    {
     "ename": "NameError",
     "evalue": "name 'class_no' is not defined",
     "output_type": "error",
     "traceback": [
      "\u001b[1;31m---------------------------------------------------------------------------\u001b[0m",
      "\u001b[1;31mNameError\u001b[0m                                 Traceback (most recent call last)",
      "\u001b[1;32m<ipython-input-46-8d8b07b2cf60>\u001b[0m in \u001b[0;36m<module>\u001b[1;34m\u001b[0m\n\u001b[1;32m----> 1\u001b[1;33m \u001b[0mcsv_to_yolo_annot\u001b[0m\u001b[1;33m(\u001b[0m\u001b[1;33m)\u001b[0m\u001b[1;33m\u001b[0m\u001b[1;33m\u001b[0m\u001b[0m\n\u001b[0m",
      "\u001b[1;32m<ipython-input-45-d131c38765a4>\u001b[0m in \u001b[0;36mcsv_to_yolo_annot\u001b[1;34m()\u001b[0m\n\u001b[0;32m     17\u001b[0m         \u001b[0mimg_name\u001b[0m\u001b[1;33m,\u001b[0m \u001b[0mxmin\u001b[0m\u001b[1;33m,\u001b[0m \u001b[0mymin\u001b[0m\u001b[1;33m,\u001b[0m \u001b[0mxmax\u001b[0m\u001b[1;33m,\u001b[0m \u001b[0mymax\u001b[0m\u001b[1;33m,\u001b[0m \u001b[0mlabel\u001b[0m \u001b[1;33m=\u001b[0m \u001b[0mparse_csv_line\u001b[0m\u001b[1;33m(\u001b[0m\u001b[0mline\u001b[0m\u001b[1;33m)\u001b[0m\u001b[1;33m\u001b[0m\u001b[1;33m\u001b[0m\u001b[0m\n\u001b[0;32m     18\u001b[0m         \u001b[0mimg_path\u001b[0m \u001b[1;33m=\u001b[0m \u001b[0mimgs_path\u001b[0m\u001b[1;33m+\u001b[0m\u001b[1;34m'/'\u001b[0m\u001b[1;33m+\u001b[0m\u001b[0mimg_name\u001b[0m\u001b[1;33m\u001b[0m\u001b[1;33m\u001b[0m\u001b[0m\n\u001b[1;32m---> 19\u001b[1;33m         \u001b[0mrow_box_annotations\u001b[0m\u001b[1;33m.\u001b[0m\u001b[0mwrite\u001b[0m\u001b[1;33m(\u001b[0m\u001b[1;34mf\"{img_path} {xmin},{ymin},{xmax},{ymax},{class_no}\\n\"\u001b[0m\u001b[1;33m)\u001b[0m\u001b[1;33m\u001b[0m\u001b[1;33m\u001b[0m\u001b[0m\n\u001b[0m\u001b[0;32m     20\u001b[0m     \u001b[0mcsv\u001b[0m\u001b[1;33m.\u001b[0m\u001b[0mclose\u001b[0m\u001b[1;33m(\u001b[0m\u001b[1;33m)\u001b[0m\u001b[1;33m\u001b[0m\u001b[1;33m\u001b[0m\u001b[0m\n",
      "\u001b[1;31mNameError\u001b[0m: name 'class_no' is not defined"
     ]
    }
   ],
   "source": [
    "csv_to_yolo_annot()"
   ]
  },
  {
   "cell_type": "code",
   "execution_count": null,
   "metadata": {},
   "outputs": [],
   "source": []
  }
 ],
 "metadata": {
  "kernelspec": {
   "display_name": "Python 3",
   "language": "python",
   "name": "python3"
  },
  "language_info": {
   "codemirror_mode": {
    "name": "ipython",
    "version": 3
   },
   "file_extension": ".py",
   "mimetype": "text/x-python",
   "name": "python",
   "nbconvert_exporter": "python",
   "pygments_lexer": "ipython3",
   "version": "3.7.6"
  }
 },
 "nbformat": 4,
 "nbformat_minor": 4
}
